{
 "cells": [
  {
   "cell_type": "code",
   "execution_count": 1,
   "id": "12aaa91d-bcfb-4527-9a80-c7425e806669",
   "metadata": {
    "tags": []
   },
   "outputs": [],
   "source": [
    "# Create Spark Context\n",
    "from pyspark import SparkContext\n",
    "sc = SparkContext()"
   ]
  },
  {
   "cell_type": "code",
   "execution_count": 3,
   "id": "65e3b377-6cbf-411f-bdf0-1860988af9e6",
   "metadata": {
    "tags": []
   },
   "outputs": [],
   "source": [
    "# Set file\n",
    "logFile = \"/home/jovyan/work/data/airflow.cfg\""
   ]
  },
  {
   "cell_type": "code",
   "execution_count": 4,
   "id": "7002b7da-5cb5-4216-9976-23659862d2be",
   "metadata": {
    "tags": []
   },
   "outputs": [],
   "source": [
    "# Read file\n",
    "logData = sc.textFile(logFile).cache()"
   ]
  },
  {
   "cell_type": "code",
   "execution_count": 5,
   "id": "3933500e-b466-4616-9088-cd639ebef43b",
   "metadata": {
    "tags": []
   },
   "outputs": [],
   "source": [
    "# Get lines with A\n",
    "numAs = logData.filter(lambda s: 'a' in s).count()"
   ]
  },
  {
   "cell_type": "code",
   "execution_count": 6,
   "id": "f6195084-1a0b-49c0-9078-9582407ea3e2",
   "metadata": {
    "tags": []
   },
   "outputs": [],
   "source": [
    "# Get lines with B\n",
    "numBs = logData.filter(lambda s: 'b' in s).count()"
   ]
  },
  {
   "cell_type": "code",
   "execution_count": 7,
   "id": "b28e76a1-7757-4704-9454-ff81e2e3e3aa",
   "metadata": {
    "tags": []
   },
   "outputs": [
    {
     "name": "stdout",
     "output_type": "stream",
     "text": [
      "Lines with a: 941, lines with b: 487\n"
     ]
    }
   ],
   "source": [
    "# Print result\n",
    "print(f\"Lines with a: {numAs}, lines with b: {numBs}\")"
   ]
  },
  {
   "cell_type": "code",
   "execution_count": null,
   "id": "72ec061d-463b-4cd5-8f7a-88034881f3de",
   "metadata": {},
   "outputs": [],
   "source": []
  }
 ],
 "metadata": {
  "kernelspec": {
   "display_name": "Python 3 (ipykernel)",
   "language": "python",
   "name": "python3"
  },
  "language_info": {
   "codemirror_mode": {
    "name": "ipython",
    "version": 3
   },
   "file_extension": ".py",
   "mimetype": "text/x-python",
   "name": "python",
   "nbconvert_exporter": "python",
   "pygments_lexer": "ipython3",
   "version": "3.10.10"
  }
 },
 "nbformat": 4,
 "nbformat_minor": 5
}
